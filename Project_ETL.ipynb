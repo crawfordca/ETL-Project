{
 "cells": [
  {
   "cell_type": "code",
   "execution_count": null,
   "metadata": {},
   "outputs": [],
   "source": [
    "import pandas as pd\n",
    "from sqlalchemy import create_engine\n",
    "from secret import username, password"
   ]
  },
  {
   "cell_type": "code",
   "execution_count": null,
   "metadata": {},
   "outputs": [],
   "source": [
    "csv_file = \"../../data/Motor_Vehicle_Collisions_-_Person.csv\"\n",
    "persons_df = pd.read_csv(csv_file)\n",
    "persons_df.head(10)"
   ]
  },
  {
   "cell_type": "code",
   "execution_count": null,
   "metadata": {},
   "outputs": [],
   "source": [
    "for col in persons_df:\n",
    "    print(col)"
   ]
  },
  {
   "cell_type": "code",
   "execution_count": null,
   "metadata": {},
   "outputs": [],
   "source": [
    "print(persons_df.info())"
   ]
  },
  {
   "cell_type": "code",
   "execution_count": null,
   "metadata": {},
   "outputs": [],
   "source": [
    "person_df = persons_df[['PERSON_ID', 'PERSON_TYPE','PERSON_AGE','PERSON_SEX' ]].copy()\n",
    "person_df.head(10)"
   ]
  },
  {
   "cell_type": "code",
   "execution_count": null,
   "metadata": {},
   "outputs": [],
   "source": [
    "p_c_df = persons_df[['PERSON_ID', 'COLLISION_ID', 'PERSON_INJURY','EMOTIONAL_STATUS', 'BODILY_INJURY', 'POSITION_IN_VEHICLE' ]].copy()\n",
    "p_c_df.head(10)"
   ]
  },
  {
   "cell_type": "code",
   "execution_count": null,
   "metadata": {},
   "outputs": [],
   "source": [
    "crash_df = persons_df[['COLLISION_ID', 'CRASH_DATE','CRASH_TIME','EJECTION']].copy()\n",
    "crash_df.head(10)"
   ]
  },
  {
   "cell_type": "code",
   "execution_count": null,
   "metadata": {},
   "outputs": [],
   "source": [
    "csv_file = \"../../data/Motor_Vehicle_Collisions_-_Vehicles.csv\"\n",
    "vehicle_df = pd.read_csv(csv_file)\n",
    "vehicle_df.head(10)"
   ]
  },
  {
   "cell_type": "code",
   "execution_count": null,
   "metadata": {},
   "outputs": [],
   "source": [
    "for col in vehicle_df:\n",
    "    print(col)"
   ]
  },
  {
   "cell_type": "code",
   "execution_count": null,
   "metadata": {},
   "outputs": [],
   "source": [
    "print(vehicle_df.info())"
   ]
  },
  {
   "cell_type": "code",
   "execution_count": null,
   "metadata": {},
   "outputs": [],
   "source": [
    "car_df = vehicle_df[['COLLISION_ID', 'VEHICLE_ID','STATE_REGISTRATION', 'VEHICLE_TYPE','VEHICLE_MAKE','VEHICLE_MODEL','VEHICLE_YEAR']].copy()\n",
    "car_df.head(10)"
   ]
  },
  {
   "cell_type": "code",
   "execution_count": null,
   "metadata": {},
   "outputs": [],
   "source": [
    "damage_df = vehicle_df[['VEHICLE_ID','POINT_OF_IMPACT','VEHICLE_DAMAGE','VEHICLE_DAMAGE_1','VEHICLE_DAMAGE_2','VEHICLE_DAMAGE_3','PUBLIC_PROPERTY_DAMAGE','PUBLIC_PROPERTY_DAMAGE_TYPE']].copy()\n",
    "damage_df.head(10)"
   ]
  },
  {
   "cell_type": "code",
   "execution_count": null,
   "metadata": {},
   "outputs": [],
   "source": [
    "person_df.drop_duplicates(\"PERSON_ID\", inplace=True)\n",
    "person_df.set_index(\"PERSON_ID\", inplace=True)\n",
    "person_df\n"
   ]
  },
  {
   "cell_type": "code",
   "execution_count": null,
   "metadata": {},
   "outputs": [],
   "source": [
    "crash_df.drop_duplicates(\"COLLISION_ID\", inplace=True)\n",
    "crash_df.set_index(\"COLLISION_ID\", inplace=True)\n",
    "crash_df\n"
   ]
  },
  {
   "cell_type": "code",
   "execution_count": null,
   "metadata": {},
   "outputs": [],
   "source": [
    "p_c_df.drop_duplicates(['PERSON_ID','COLLISION_ID'])\n",
    "p_c_df.set_index(\"PERSON_ID\", inplace=True)\n",
    "p_c_df"
   ]
  },
  {
   "cell_type": "code",
   "execution_count": null,
   "metadata": {},
   "outputs": [],
   "source": [
    "car_df.drop_duplicates(['COLLISION_ID', 'VEHICLE_ID'])\n",
    "car_df.set_index(\"COLLISION_ID\", inplace=True)\n",
    "car_df"
   ]
  },
  {
   "cell_type": "code",
   "execution_count": null,
   "metadata": {},
   "outputs": [],
   "source": [
    "damage_df.drop_duplicates(\"VEHICLE_ID\", inplace=True)\n",
    "damage_df.set_index(\"VEHICLE_ID\", inplace=True)\n",
    "damage_df"
   ]
  },
  {
   "cell_type": "code",
   "execution_count": null,
   "metadata": {},
   "outputs": [],
   "source": [
    "#Connect to local database\n",
    "\n",
    "rds_connection_string = f'{username}:{password}@localhost:5432/accidents_db'\n",
    "engine = create_engine(f'postgresql://{rds_connection_string}')"
   ]
  },
  {
   "cell_type": "code",
   "execution_count": null,
   "metadata": {},
   "outputs": [],
   "source": [
    "engine.table_names()"
   ]
  },
  {
   "cell_type": "code",
   "execution_count": null,
   "metadata": {},
   "outputs": [],
   "source": [
    "damage_df.to_sql(name='DAMAGE', con=engine, if_exists='append', index=True)"
   ]
  },
  {
   "cell_type": "code",
   "execution_count": null,
   "metadata": {},
   "outputs": [],
   "source": [
    "crash_df.to_sql(name='CRASH', con=engine, if_exists='append', index=True)"
   ]
  },
  {
   "cell_type": "code",
   "execution_count": null,
   "metadata": {},
   "outputs": [],
   "source": [
    "car_df.to_sql(name='CAR', con=engine, if_exists='append', index=True)"
   ]
  },
  {
   "cell_type": "code",
   "execution_count": null,
   "metadata": {},
   "outputs": [],
   "source": [
    "p_c_df.to_sql(name='P_C', con=engine, if_exists='append', index=True)"
   ]
  },
  {
   "cell_type": "code",
   "execution_count": null,
   "metadata": {},
   "outputs": [],
   "source": [
    "person_df.to_sql(name='PERSON', con=engine, if_exists='append', index=True)"
   ]
  }
 ],
 "metadata": {
  "kernelspec": {
   "display_name": "Python [conda env:Project1] *",
   "language": "python",
   "name": "conda-env-Project1-py"
  },
  "language_info": {
   "codemirror_mode": {
    "name": "ipython",
    "version": 3
   },
   "file_extension": ".py",
   "mimetype": "text/x-python",
   "name": "python",
   "nbconvert_exporter": "python",
   "pygments_lexer": "ipython3",
   "version": "3.8.3"
  }
 },
 "nbformat": 4,
 "nbformat_minor": 4
}
